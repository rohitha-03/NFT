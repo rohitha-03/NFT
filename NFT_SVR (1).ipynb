{
  "nbformat": 4,
  "nbformat_minor": 0,
  "metadata": {
    "colab": {
      "provenance": []
    },
    "kernelspec": {
      "name": "python3",
      "display_name": "Python 3"
    },
    "language_info": {
      "name": "python"
    }
  },
  "cells": [
    {
      "cell_type": "code",
      "source": [
        "!wget \"https://drive.google.com/uc?id=12jYaFH0d_XhnWGTxcBWmQAcl0jcIR5a_\" -O Dataset.csv\n"
      ],
      "metadata": {
        "colab": {
          "base_uri": "https://localhost:8080/"
        },
        "id": "03bel3EH0wDS",
        "outputId": "70dcbecb-b1c5-4b8f-e78e-7895601cdb82"
      },
      "execution_count": null,
      "outputs": [
        {
          "output_type": "stream",
          "name": "stdout",
          "text": [
            "--2024-11-22 12:22:42--  https://drive.google.com/uc?id=12jYaFH0d_XhnWGTxcBWmQAcl0jcIR5a_\n",
            "Resolving drive.google.com (drive.google.com)... 74.125.202.101, 74.125.202.102, 74.125.202.100, ...\n",
            "Connecting to drive.google.com (drive.google.com)|74.125.202.101|:443... connected.\n",
            "HTTP request sent, awaiting response... 303 See Other\n",
            "Location: https://drive.usercontent.google.com/download?id=12jYaFH0d_XhnWGTxcBWmQAcl0jcIR5a_ [following]\n",
            "--2024-11-22 12:22:42--  https://drive.usercontent.google.com/download?id=12jYaFH0d_XhnWGTxcBWmQAcl0jcIR5a_\n",
            "Resolving drive.usercontent.google.com (drive.usercontent.google.com)... 209.85.145.132, 2607:f8b0:4001:c1e::84\n",
            "Connecting to drive.usercontent.google.com (drive.usercontent.google.com)|209.85.145.132|:443... connected.\n",
            "HTTP request sent, awaiting response... 200 OK\n",
            "Length: 18141 (18K) [application/octet-stream]\n",
            "Saving to: ‘Dataset.csv’\n",
            "\n",
            "Dataset.csv         100%[===================>]  17.72K  --.-KB/s    in 0s      \n",
            "\n",
            "2024-11-22 12:22:45 (64.0 MB/s) - ‘Dataset.csv’ saved [18141/18141]\n",
            "\n"
          ]
        }
      ]
    },
    {
      "cell_type": "code",
      "source": [
        "!ls"
      ],
      "metadata": {
        "colab": {
          "base_uri": "https://localhost:8080/"
        },
        "id": "JGRTVvrC01OZ",
        "outputId": "f483912f-243b-4356-a956-9f71c3e2e6ab"
      },
      "execution_count": null,
      "outputs": [
        {
          "output_type": "stream",
          "name": "stdout",
          "text": [
            "Dataset.csv  sample_data\n"
          ]
        }
      ]
    },
    {
      "cell_type": "code",
      "source": [
        "import pandas as pd\n",
        "from scipy.stats import zscore\n",
        "\n",
        "# Load your dataset (assuming it's in a CSV format, adjust accordingly)\n",
        "df = pd.read_csv('Dataset.csv')\n",
        "\n",
        "# Step 1: Organize the data for easier calculations\n",
        "df_melt = df.melt(id_vars=['Commodity', 'Year'],\n",
        "                  value_vars=['Jan', 'Feb', 'Mar', 'April', 'May', 'Jun', 'July', 'Aug', 'Sep', 'Oct', 'Nov', 'Dec'],\n",
        "                  var_name='Month', value_name='Price')\n",
        "\n",
        "\n",
        "# Step 2: Calculate Z-score by grouping data by 'Commodity' and applying zscore function\n",
        "df_melt['Z-score'] = df_melt.groupby('Commodity')['Price'].transform(zscore)\n",
        "\n",
        "# Step 3: Drop the 'Price' column\n",
        "zonly = df_melt.drop(columns=['Price'])\n",
        "\n",
        "# Step 4: Save the result to a new CSV file\n",
        "zonly.to_csv('normalized_data.csv', index=False)\n",
        "\n",
        "# Print confirmation message\n",
        "#print(\"Z-scores have been saved to 'normalized_data.csv'\")\n"
      ],
      "metadata": {
        "id": "BUfFOCIhSwGx"
      },
      "execution_count": null,
      "outputs": []
    },
    {
      "cell_type": "code",
      "source": [
        "!ls"
      ],
      "metadata": {
        "colab": {
          "base_uri": "https://localhost:8080/"
        },
        "id": "HZ_CSCGBS7hW",
        "outputId": "ce94f338-d33c-4b0a-b8bc-91b3ce206e27"
      },
      "execution_count": null,
      "outputs": [
        {
          "output_type": "stream",
          "name": "stdout",
          "text": [
            "Dataset.csv  normalized_data.csv  sample_data\n"
          ]
        }
      ]
    },
    {
      "cell_type": "code",
      "source": [
        "# Identify outliers where Z-score is beyond a threshold (e.g., >3 or <-3)\n",
        "outliers = df_melt[(df_melt['Z-score'] > 3) | (df_melt['Z-score'] < -3)]\n",
        "print(outliers)\n"
      ],
      "metadata": {
        "colab": {
          "base_uri": "https://localhost:8080/"
        },
        "id": "kBpJk5WMS-4L",
        "outputId": "d6567156-f5d7-4de4-a61b-5449c0335cab"
      },
      "execution_count": null,
      "outputs": [
        {
          "output_type": "stream",
          "name": "stdout",
          "text": [
            "     Commodity  Year Month   Price   Z-score\n",
            "382        Gur  2021   Feb   58.97  3.484547\n",
            "1410    Tomato  2023  July  106.57  5.711538\n",
            "1620    Tomato  2023   Aug   96.38  4.954672\n",
            "1638     Sugar  2015   Aug   26.00 -3.326256\n",
            "1813    Potato  2020   Sep   40.98  3.007498\n",
            "1848     Sugar  2015   Sep   26.43 -3.207185\n",
            "1907  Gram Dal  2016   Oct  128.33  3.756867\n",
            "2023    Potato  2020   Oct   42.69  3.312430\n",
            "2117  Gram Dal  2016   Nov  132.01  4.002393\n",
            "2233    Potato  2020   Nov   45.61  3.833132\n",
            "2327  Gram Dal  2016   Dec  127.92  3.729512\n",
            "2443    Potato  2020   Dec   41.18  3.043163\n",
            "2454     Onion  2019   Dec   86.35  5.120083\n"
          ]
        }
      ]
    },
    {
      "cell_type": "code",
      "source": [
        "# Cap Z-scores beyond 3 or -3\n",
        "df_melt['Z-score'] = df_melt['Z-score'].apply(lambda x: 3 if x > 3 else (-3 if x < -3 else x))\n"
      ],
      "metadata": {
        "id": "GQUp9dzCTCxB"
      },
      "execution_count": null,
      "outputs": []
    },
    {
      "cell_type": "code",
      "source": [
        "# Identify outliers where Z-score is beyond a threshold (e.g., >3 or <-3)\n",
        "outliers = df_melt[(df_melt['Z-score'] > 3) | (df_melt['Z-score'] < -3)]\n",
        "print(outliers)"
      ],
      "metadata": {
        "colab": {
          "base_uri": "https://localhost:8080/"
        },
        "id": "lRk122_pTJbW",
        "outputId": "b1c578af-998f-4694-a3c4-85fc67e69abf"
      },
      "execution_count": null,
      "outputs": [
        {
          "output_type": "stream",
          "name": "stdout",
          "text": [
            "Empty DataFrame\n",
            "Columns: [Commodity, Year, Month, Price, Z-score]\n",
            "Index: []\n"
          ]
        }
      ]
    },
    {
      "cell_type": "code",
      "source": [
        "from sklearn.model_selection import train_test_split\n",
        "from sklearn.linear_model import LinearRegression\n",
        "from sklearn.metrics import mean_squared_error\n",
        "\n",
        "# Step 4: One-hot encode categorical columns ('Commodity', 'Month')\n",
        "df_melt_encoded = pd.get_dummies(df_melt, columns=['Commodity', 'Month'], drop_first=True)\n",
        "\n",
        "# Step 5: Use Z-scores as features (X) and Price as target (y)\n",
        "X = df_melt_encoded.drop(columns=['Price', 'Z-score'])  # Use Z-score instead of raw prices\n",
        "X['Z-score'] = df_melt['Z-score']  # Include Z-score as a feature\n",
        "Y = df_melt_encoded['Price']  # Target remains the actual price\n",
        "\n",
        "#X['Year'] = df_melt['Year']\n",
        "\n",
        "# Step 6: Split the data into training and testing sets\n",
        "X_train, X_test, y_train, y_test = train_test_split(X, Y, test_size=0.2, random_state=42)"
      ],
      "metadata": {
        "id": "WaB5eS_nTLNZ"
      },
      "execution_count": null,
      "outputs": []
    },
    {
      "cell_type": "code",
      "source": [
        "# Step 7: Train the Linear Regression model\n",
        "model = LinearRegression()\n",
        "model.fit(X_train, y_train)"
      ],
      "metadata": {
        "colab": {
          "base_uri": "https://localhost:8080/",
          "height": 80
        },
        "id": "E2xOUpg5TPD5",
        "outputId": "521f2270-f04f-47df-ddd9-c177c604ed79"
      },
      "execution_count": null,
      "outputs": [
        {
          "output_type": "execute_result",
          "data": {
            "text/plain": [
              "LinearRegression()"
            ],
            "text/html": [
              "<style>#sk-container-id-1 {\n",
              "  /* Definition of color scheme common for light and dark mode */\n",
              "  --sklearn-color-text: black;\n",
              "  --sklearn-color-line: gray;\n",
              "  /* Definition of color scheme for unfitted estimators */\n",
              "  --sklearn-color-unfitted-level-0: #fff5e6;\n",
              "  --sklearn-color-unfitted-level-1: #f6e4d2;\n",
              "  --sklearn-color-unfitted-level-2: #ffe0b3;\n",
              "  --sklearn-color-unfitted-level-3: chocolate;\n",
              "  /* Definition of color scheme for fitted estimators */\n",
              "  --sklearn-color-fitted-level-0: #f0f8ff;\n",
              "  --sklearn-color-fitted-level-1: #d4ebff;\n",
              "  --sklearn-color-fitted-level-2: #b3dbfd;\n",
              "  --sklearn-color-fitted-level-3: cornflowerblue;\n",
              "\n",
              "  /* Specific color for light theme */\n",
              "  --sklearn-color-text-on-default-background: var(--sg-text-color, var(--theme-code-foreground, var(--jp-content-font-color1, black)));\n",
              "  --sklearn-color-background: var(--sg-background-color, var(--theme-background, var(--jp-layout-color0, white)));\n",
              "  --sklearn-color-border-box: var(--sg-text-color, var(--theme-code-foreground, var(--jp-content-font-color1, black)));\n",
              "  --sklearn-color-icon: #696969;\n",
              "\n",
              "  @media (prefers-color-scheme: dark) {\n",
              "    /* Redefinition of color scheme for dark theme */\n",
              "    --sklearn-color-text-on-default-background: var(--sg-text-color, var(--theme-code-foreground, var(--jp-content-font-color1, white)));\n",
              "    --sklearn-color-background: var(--sg-background-color, var(--theme-background, var(--jp-layout-color0, #111)));\n",
              "    --sklearn-color-border-box: var(--sg-text-color, var(--theme-code-foreground, var(--jp-content-font-color1, white)));\n",
              "    --sklearn-color-icon: #878787;\n",
              "  }\n",
              "}\n",
              "\n",
              "#sk-container-id-1 {\n",
              "  color: var(--sklearn-color-text);\n",
              "}\n",
              "\n",
              "#sk-container-id-1 pre {\n",
              "  padding: 0;\n",
              "}\n",
              "\n",
              "#sk-container-id-1 input.sk-hidden--visually {\n",
              "  border: 0;\n",
              "  clip: rect(1px 1px 1px 1px);\n",
              "  clip: rect(1px, 1px, 1px, 1px);\n",
              "  height: 1px;\n",
              "  margin: -1px;\n",
              "  overflow: hidden;\n",
              "  padding: 0;\n",
              "  position: absolute;\n",
              "  width: 1px;\n",
              "}\n",
              "\n",
              "#sk-container-id-1 div.sk-dashed-wrapped {\n",
              "  border: 1px dashed var(--sklearn-color-line);\n",
              "  margin: 0 0.4em 0.5em 0.4em;\n",
              "  box-sizing: border-box;\n",
              "  padding-bottom: 0.4em;\n",
              "  background-color: var(--sklearn-color-background);\n",
              "}\n",
              "\n",
              "#sk-container-id-1 div.sk-container {\n",
              "  /* jupyter's `normalize.less` sets `[hidden] { display: none; }`\n",
              "     but bootstrap.min.css set `[hidden] { display: none !important; }`\n",
              "     so we also need the `!important` here to be able to override the\n",
              "     default hidden behavior on the sphinx rendered scikit-learn.org.\n",
              "     See: https://github.com/scikit-learn/scikit-learn/issues/21755 */\n",
              "  display: inline-block !important;\n",
              "  position: relative;\n",
              "}\n",
              "\n",
              "#sk-container-id-1 div.sk-text-repr-fallback {\n",
              "  display: none;\n",
              "}\n",
              "\n",
              "div.sk-parallel-item,\n",
              "div.sk-serial,\n",
              "div.sk-item {\n",
              "  /* draw centered vertical line to link estimators */\n",
              "  background-image: linear-gradient(var(--sklearn-color-text-on-default-background), var(--sklearn-color-text-on-default-background));\n",
              "  background-size: 2px 100%;\n",
              "  background-repeat: no-repeat;\n",
              "  background-position: center center;\n",
              "}\n",
              "\n",
              "/* Parallel-specific style estimator block */\n",
              "\n",
              "#sk-container-id-1 div.sk-parallel-item::after {\n",
              "  content: \"\";\n",
              "  width: 100%;\n",
              "  border-bottom: 2px solid var(--sklearn-color-text-on-default-background);\n",
              "  flex-grow: 1;\n",
              "}\n",
              "\n",
              "#sk-container-id-1 div.sk-parallel {\n",
              "  display: flex;\n",
              "  align-items: stretch;\n",
              "  justify-content: center;\n",
              "  background-color: var(--sklearn-color-background);\n",
              "  position: relative;\n",
              "}\n",
              "\n",
              "#sk-container-id-1 div.sk-parallel-item {\n",
              "  display: flex;\n",
              "  flex-direction: column;\n",
              "}\n",
              "\n",
              "#sk-container-id-1 div.sk-parallel-item:first-child::after {\n",
              "  align-self: flex-end;\n",
              "  width: 50%;\n",
              "}\n",
              "\n",
              "#sk-container-id-1 div.sk-parallel-item:last-child::after {\n",
              "  align-self: flex-start;\n",
              "  width: 50%;\n",
              "}\n",
              "\n",
              "#sk-container-id-1 div.sk-parallel-item:only-child::after {\n",
              "  width: 0;\n",
              "}\n",
              "\n",
              "/* Serial-specific style estimator block */\n",
              "\n",
              "#sk-container-id-1 div.sk-serial {\n",
              "  display: flex;\n",
              "  flex-direction: column;\n",
              "  align-items: center;\n",
              "  background-color: var(--sklearn-color-background);\n",
              "  padding-right: 1em;\n",
              "  padding-left: 1em;\n",
              "}\n",
              "\n",
              "\n",
              "/* Toggleable style: style used for estimator/Pipeline/ColumnTransformer box that is\n",
              "clickable and can be expanded/collapsed.\n",
              "- Pipeline and ColumnTransformer use this feature and define the default style\n",
              "- Estimators will overwrite some part of the style using the `sk-estimator` class\n",
              "*/\n",
              "\n",
              "/* Pipeline and ColumnTransformer style (default) */\n",
              "\n",
              "#sk-container-id-1 div.sk-toggleable {\n",
              "  /* Default theme specific background. It is overwritten whether we have a\n",
              "  specific estimator or a Pipeline/ColumnTransformer */\n",
              "  background-color: var(--sklearn-color-background);\n",
              "}\n",
              "\n",
              "/* Toggleable label */\n",
              "#sk-container-id-1 label.sk-toggleable__label {\n",
              "  cursor: pointer;\n",
              "  display: block;\n",
              "  width: 100%;\n",
              "  margin-bottom: 0;\n",
              "  padding: 0.5em;\n",
              "  box-sizing: border-box;\n",
              "  text-align: center;\n",
              "}\n",
              "\n",
              "#sk-container-id-1 label.sk-toggleable__label-arrow:before {\n",
              "  /* Arrow on the left of the label */\n",
              "  content: \"▸\";\n",
              "  float: left;\n",
              "  margin-right: 0.25em;\n",
              "  color: var(--sklearn-color-icon);\n",
              "}\n",
              "\n",
              "#sk-container-id-1 label.sk-toggleable__label-arrow:hover:before {\n",
              "  color: var(--sklearn-color-text);\n",
              "}\n",
              "\n",
              "/* Toggleable content - dropdown */\n",
              "\n",
              "#sk-container-id-1 div.sk-toggleable__content {\n",
              "  max-height: 0;\n",
              "  max-width: 0;\n",
              "  overflow: hidden;\n",
              "  text-align: left;\n",
              "  /* unfitted */\n",
              "  background-color: var(--sklearn-color-unfitted-level-0);\n",
              "}\n",
              "\n",
              "#sk-container-id-1 div.sk-toggleable__content.fitted {\n",
              "  /* fitted */\n",
              "  background-color: var(--sklearn-color-fitted-level-0);\n",
              "}\n",
              "\n",
              "#sk-container-id-1 div.sk-toggleable__content pre {\n",
              "  margin: 0.2em;\n",
              "  border-radius: 0.25em;\n",
              "  color: var(--sklearn-color-text);\n",
              "  /* unfitted */\n",
              "  background-color: var(--sklearn-color-unfitted-level-0);\n",
              "}\n",
              "\n",
              "#sk-container-id-1 div.sk-toggleable__content.fitted pre {\n",
              "  /* unfitted */\n",
              "  background-color: var(--sklearn-color-fitted-level-0);\n",
              "}\n",
              "\n",
              "#sk-container-id-1 input.sk-toggleable__control:checked~div.sk-toggleable__content {\n",
              "  /* Expand drop-down */\n",
              "  max-height: 200px;\n",
              "  max-width: 100%;\n",
              "  overflow: auto;\n",
              "}\n",
              "\n",
              "#sk-container-id-1 input.sk-toggleable__control:checked~label.sk-toggleable__label-arrow:before {\n",
              "  content: \"▾\";\n",
              "}\n",
              "\n",
              "/* Pipeline/ColumnTransformer-specific style */\n",
              "\n",
              "#sk-container-id-1 div.sk-label input.sk-toggleable__control:checked~label.sk-toggleable__label {\n",
              "  color: var(--sklearn-color-text);\n",
              "  background-color: var(--sklearn-color-unfitted-level-2);\n",
              "}\n",
              "\n",
              "#sk-container-id-1 div.sk-label.fitted input.sk-toggleable__control:checked~label.sk-toggleable__label {\n",
              "  background-color: var(--sklearn-color-fitted-level-2);\n",
              "}\n",
              "\n",
              "/* Estimator-specific style */\n",
              "\n",
              "/* Colorize estimator box */\n",
              "#sk-container-id-1 div.sk-estimator input.sk-toggleable__control:checked~label.sk-toggleable__label {\n",
              "  /* unfitted */\n",
              "  background-color: var(--sklearn-color-unfitted-level-2);\n",
              "}\n",
              "\n",
              "#sk-container-id-1 div.sk-estimator.fitted input.sk-toggleable__control:checked~label.sk-toggleable__label {\n",
              "  /* fitted */\n",
              "  background-color: var(--sklearn-color-fitted-level-2);\n",
              "}\n",
              "\n",
              "#sk-container-id-1 div.sk-label label.sk-toggleable__label,\n",
              "#sk-container-id-1 div.sk-label label {\n",
              "  /* The background is the default theme color */\n",
              "  color: var(--sklearn-color-text-on-default-background);\n",
              "}\n",
              "\n",
              "/* On hover, darken the color of the background */\n",
              "#sk-container-id-1 div.sk-label:hover label.sk-toggleable__label {\n",
              "  color: var(--sklearn-color-text);\n",
              "  background-color: var(--sklearn-color-unfitted-level-2);\n",
              "}\n",
              "\n",
              "/* Label box, darken color on hover, fitted */\n",
              "#sk-container-id-1 div.sk-label.fitted:hover label.sk-toggleable__label.fitted {\n",
              "  color: var(--sklearn-color-text);\n",
              "  background-color: var(--sklearn-color-fitted-level-2);\n",
              "}\n",
              "\n",
              "/* Estimator label */\n",
              "\n",
              "#sk-container-id-1 div.sk-label label {\n",
              "  font-family: monospace;\n",
              "  font-weight: bold;\n",
              "  display: inline-block;\n",
              "  line-height: 1.2em;\n",
              "}\n",
              "\n",
              "#sk-container-id-1 div.sk-label-container {\n",
              "  text-align: center;\n",
              "}\n",
              "\n",
              "/* Estimator-specific */\n",
              "#sk-container-id-1 div.sk-estimator {\n",
              "  font-family: monospace;\n",
              "  border: 1px dotted var(--sklearn-color-border-box);\n",
              "  border-radius: 0.25em;\n",
              "  box-sizing: border-box;\n",
              "  margin-bottom: 0.5em;\n",
              "  /* unfitted */\n",
              "  background-color: var(--sklearn-color-unfitted-level-0);\n",
              "}\n",
              "\n",
              "#sk-container-id-1 div.sk-estimator.fitted {\n",
              "  /* fitted */\n",
              "  background-color: var(--sklearn-color-fitted-level-0);\n",
              "}\n",
              "\n",
              "/* on hover */\n",
              "#sk-container-id-1 div.sk-estimator:hover {\n",
              "  /* unfitted */\n",
              "  background-color: var(--sklearn-color-unfitted-level-2);\n",
              "}\n",
              "\n",
              "#sk-container-id-1 div.sk-estimator.fitted:hover {\n",
              "  /* fitted */\n",
              "  background-color: var(--sklearn-color-fitted-level-2);\n",
              "}\n",
              "\n",
              "/* Specification for estimator info (e.g. \"i\" and \"?\") */\n",
              "\n",
              "/* Common style for \"i\" and \"?\" */\n",
              "\n",
              ".sk-estimator-doc-link,\n",
              "a:link.sk-estimator-doc-link,\n",
              "a:visited.sk-estimator-doc-link {\n",
              "  float: right;\n",
              "  font-size: smaller;\n",
              "  line-height: 1em;\n",
              "  font-family: monospace;\n",
              "  background-color: var(--sklearn-color-background);\n",
              "  border-radius: 1em;\n",
              "  height: 1em;\n",
              "  width: 1em;\n",
              "  text-decoration: none !important;\n",
              "  margin-left: 1ex;\n",
              "  /* unfitted */\n",
              "  border: var(--sklearn-color-unfitted-level-1) 1pt solid;\n",
              "  color: var(--sklearn-color-unfitted-level-1);\n",
              "}\n",
              "\n",
              ".sk-estimator-doc-link.fitted,\n",
              "a:link.sk-estimator-doc-link.fitted,\n",
              "a:visited.sk-estimator-doc-link.fitted {\n",
              "  /* fitted */\n",
              "  border: var(--sklearn-color-fitted-level-1) 1pt solid;\n",
              "  color: var(--sklearn-color-fitted-level-1);\n",
              "}\n",
              "\n",
              "/* On hover */\n",
              "div.sk-estimator:hover .sk-estimator-doc-link:hover,\n",
              ".sk-estimator-doc-link:hover,\n",
              "div.sk-label-container:hover .sk-estimator-doc-link:hover,\n",
              ".sk-estimator-doc-link:hover {\n",
              "  /* unfitted */\n",
              "  background-color: var(--sklearn-color-unfitted-level-3);\n",
              "  color: var(--sklearn-color-background);\n",
              "  text-decoration: none;\n",
              "}\n",
              "\n",
              "div.sk-estimator.fitted:hover .sk-estimator-doc-link.fitted:hover,\n",
              ".sk-estimator-doc-link.fitted:hover,\n",
              "div.sk-label-container:hover .sk-estimator-doc-link.fitted:hover,\n",
              ".sk-estimator-doc-link.fitted:hover {\n",
              "  /* fitted */\n",
              "  background-color: var(--sklearn-color-fitted-level-3);\n",
              "  color: var(--sklearn-color-background);\n",
              "  text-decoration: none;\n",
              "}\n",
              "\n",
              "/* Span, style for the box shown on hovering the info icon */\n",
              ".sk-estimator-doc-link span {\n",
              "  display: none;\n",
              "  z-index: 9999;\n",
              "  position: relative;\n",
              "  font-weight: normal;\n",
              "  right: .2ex;\n",
              "  padding: .5ex;\n",
              "  margin: .5ex;\n",
              "  width: min-content;\n",
              "  min-width: 20ex;\n",
              "  max-width: 50ex;\n",
              "  color: var(--sklearn-color-text);\n",
              "  box-shadow: 2pt 2pt 4pt #999;\n",
              "  /* unfitted */\n",
              "  background: var(--sklearn-color-unfitted-level-0);\n",
              "  border: .5pt solid var(--sklearn-color-unfitted-level-3);\n",
              "}\n",
              "\n",
              ".sk-estimator-doc-link.fitted span {\n",
              "  /* fitted */\n",
              "  background: var(--sklearn-color-fitted-level-0);\n",
              "  border: var(--sklearn-color-fitted-level-3);\n",
              "}\n",
              "\n",
              ".sk-estimator-doc-link:hover span {\n",
              "  display: block;\n",
              "}\n",
              "\n",
              "/* \"?\"-specific style due to the `<a>` HTML tag */\n",
              "\n",
              "#sk-container-id-1 a.estimator_doc_link {\n",
              "  float: right;\n",
              "  font-size: 1rem;\n",
              "  line-height: 1em;\n",
              "  font-family: monospace;\n",
              "  background-color: var(--sklearn-color-background);\n",
              "  border-radius: 1rem;\n",
              "  height: 1rem;\n",
              "  width: 1rem;\n",
              "  text-decoration: none;\n",
              "  /* unfitted */\n",
              "  color: var(--sklearn-color-unfitted-level-1);\n",
              "  border: var(--sklearn-color-unfitted-level-1) 1pt solid;\n",
              "}\n",
              "\n",
              "#sk-container-id-1 a.estimator_doc_link.fitted {\n",
              "  /* fitted */\n",
              "  border: var(--sklearn-color-fitted-level-1) 1pt solid;\n",
              "  color: var(--sklearn-color-fitted-level-1);\n",
              "}\n",
              "\n",
              "/* On hover */\n",
              "#sk-container-id-1 a.estimator_doc_link:hover {\n",
              "  /* unfitted */\n",
              "  background-color: var(--sklearn-color-unfitted-level-3);\n",
              "  color: var(--sklearn-color-background);\n",
              "  text-decoration: none;\n",
              "}\n",
              "\n",
              "#sk-container-id-1 a.estimator_doc_link.fitted:hover {\n",
              "  /* fitted */\n",
              "  background-color: var(--sklearn-color-fitted-level-3);\n",
              "}\n",
              "</style><div id=\"sk-container-id-1\" class=\"sk-top-container\"><div class=\"sk-text-repr-fallback\"><pre>LinearRegression()</pre><b>In a Jupyter environment, please rerun this cell to show the HTML representation or trust the notebook. <br />On GitHub, the HTML representation is unable to render, please try loading this page with nbviewer.org.</b></div><div class=\"sk-container\" hidden><div class=\"sk-item\"><div class=\"sk-estimator fitted sk-toggleable\"><input class=\"sk-toggleable__control sk-hidden--visually\" id=\"sk-estimator-id-1\" type=\"checkbox\" checked><label for=\"sk-estimator-id-1\" class=\"sk-toggleable__label fitted sk-toggleable__label-arrow fitted\">&nbsp;&nbsp;LinearRegression<a class=\"sk-estimator-doc-link fitted\" rel=\"noreferrer\" target=\"_blank\" href=\"https://scikit-learn.org/1.5/modules/generated/sklearn.linear_model.LinearRegression.html\">?<span>Documentation for LinearRegression</span></a><span class=\"sk-estimator-doc-link fitted\">i<span>Fitted</span></span></label><div class=\"sk-toggleable__content fitted\"><pre>LinearRegression()</pre></div> </div></div></div></div>"
            ]
          },
          "metadata": {},
          "execution_count": 18
        }
      ]
    },
    {
      "cell_type": "code",
      "source": [
        "# Step 8: Predict on the test set\n",
        "y_pred = model.predict(X_test)"
      ],
      "metadata": {
        "id": "0xH43P0nTU1W"
      },
      "execution_count": null,
      "outputs": []
    },
    {
      "cell_type": "code",
      "source": [
        "import numpy as np\n",
        "\n",
        "# Step 1: Make predictions on the training set\n",
        "y_train_pred = model.predict(X_train)\n",
        "\n",
        "# Step 2: Calculate Mean Squared Error (MSE) for the training set\n",
        "mse_train = mean_squared_error(y_train, y_train_pred)\n",
        "\n",
        "# Step 3: Calculate Root Mean Squared Error (RMSE) for the training set\n",
        "rmse_train = np.sqrt(mse_train)\n",
        "\n",
        "# Step 4: Print the RMSE\n",
        "print(f\"Training RMSE: {rmse_train}\")\n"
      ],
      "metadata": {
        "colab": {
          "base_uri": "https://localhost:8080/"
        },
        "id": "NnFfv2yWTX1R",
        "outputId": "41ed1cae-72d9-49f7-e18a-701393c92c58"
      },
      "execution_count": null,
      "outputs": [
        {
          "output_type": "stream",
          "name": "stdout",
          "text": [
            "Training RMSE: 9.967988331956207\n"
          ]
        }
      ]
    },
    {
      "cell_type": "code",
      "source": [
        "# Step 9: Evaluate the model\n",
        "mse = mean_squared_error(y_test, y_pred)\n",
        "rmse = np.sqrt(mse)\n",
        "print(f\"RMSE: {rmse}\")"
      ],
      "metadata": {
        "colab": {
          "base_uri": "https://localhost:8080/"
        },
        "id": "BVXXmBoWTauQ",
        "outputId": "025f8d6f-88f3-43ec-b4b7-a447b6193cb5"
      },
      "execution_count": null,
      "outputs": [
        {
          "output_type": "stream",
          "name": "stdout",
          "text": [
            "RMSE: 10.53681324158953\n"
          ]
        }
      ]
    },
    {
      "cell_type": "code",
      "source": [
        "from sklearn.metrics import r2_score\n",
        "\n",
        "# Assuming y_test and y_pred are your actual and predicted values, respectively.\n",
        "r2 = r2_score(y_test, y_pred)\n",
        "print(f\"R-squared (R2): {r2}\")"
      ],
      "metadata": {
        "colab": {
          "base_uri": "https://localhost:8080/"
        },
        "id": "etw6nt_yM7vf",
        "outputId": "68879924-eb80-4394-df94-b53989320f17"
      },
      "execution_count": null,
      "outputs": [
        {
          "output_type": "stream",
          "name": "stdout",
          "text": [
            "R-squared (R2): 0.9677019428395274\n"
          ]
        }
      ]
    },
    {
      "cell_type": "code",
      "source": [
        "import pandas as pd\n",
        "\n",
        "# Step 1: Prepare your input features\n",
        "# Replace these with actual values you want to predict\n",
        "new_data = {\n",
        "    'Month_April': [1],  # Example: April = 1, other months = 0\n",
        "    #'Month_Aug': [0],    # Example: Aug = 0\n",
        "    #'Month_Dec': [0],    # Example: Dec = 0\n",
        "    #'Month_Feb': [0],    # Example: Feb = 0\n",
        "    #'Month_Jan': [0],    # Example: Jan = 0\n",
        "    #'Month_July': [0],   # Example: July = 0\n",
        "    #'Month_Jun': [0],    # Example: Jun = 0\n",
        "    #'Month_Mar': [0],    # Example: Mar = 0\n",
        "    #'Month_May': [0],    # Example: May = 0\n",
        "    #'Month_Nov': [0],    # Example: Nov = 0\n",
        "    #'Month_Oct': [0],    # Example: Oct = 0\n",
        "    #'Month_Sep': [0],    # Example: Sep = 0\n",
        "    #'Commodity_Masoor Dal': [0],  # Example: Commodity_X = 1 if it's a relevant commodity, otherwise 0\n",
        "    'Commodity_Groundnut Oil': [1],  # Example: Commodity_Y = 0\n",
        "    # Add or remove commodity columns as necessary\n",
        "    'Year': [2024]       # Example year\n",
        "}\n",
        "\n",
        "# Step 2: Create a DataFrame\n",
        "new_df = pd.DataFrame(new_data)\n",
        "\n",
        "# Ensure the DataFrame has the same columns as the training data\n",
        "# For example, you may need to reorder columns or ensure all columns are present\n",
        "for col in X.columns:\n",
        "    if col not in new_df.columns:\n",
        "        new_df[col] = 0  # Or appropriate default value\n",
        "new_df = new_df[X.columns]  # Reorder columns if necessary\n",
        "\n",
        "# Step 3: Get predictions\n",
        "y_new_pred = model.predict(new_df)\n",
        "\n",
        "print(f\"Predicted Price: {y_new_pred[0]}\")\n"
      ],
      "metadata": {
        "colab": {
          "base_uri": "https://localhost:8080/"
        },
        "id": "3g5_ClOrYWvy",
        "outputId": "efaeb5b9-a4d8-421e-b89d-4b3e4669dd9d"
      },
      "execution_count": null,
      "outputs": [
        {
          "output_type": "stream",
          "name": "stdout",
          "text": [
            "Predicted Price: 141.07872663135032\n"
          ]
        }
      ]
    },
    {
      "cell_type": "code",
      "source": [
        "import matplotlib.pyplot as plt\n",
        "\n",
        "# Step 1: Plot the Actual vs Predicted values\n",
        "plt.figure(figsize=(10,6))\n",
        "plt.scatter(y_test, y_pred, color='blue', label='Predicted Prices')\n",
        "\n",
        "# Step 2: Plot the line where the prediction perfectly matches the actual prices\n",
        "plt.plot([y_test.min(), y_test.max()], [y_test.min(), y_test.max()], color='red', lw=2, label='Perfect Prediction Line')\n",
        "\n",
        "# Step 3: Add labels and title\n",
        "plt.xlabel('Actual Prices')\n",
        "plt.ylabel('Predicted Prices')\n",
        "plt.title('Actual vs Predicted Prices (Linear Regression)')\n",
        "plt.legend()\n",
        "plt.grid(True)\n",
        "\n",
        "# Step 4: Show the plot\n",
        "plt.show()"
      ],
      "metadata": {
        "colab": {
          "base_uri": "https://localhost:8080/",
          "height": 564
        },
        "id": "Ku_riCzrJoNY",
        "outputId": "b21f5331-78ef-4a3a-a334-2678ec9a71ec"
      },
      "execution_count": null,
      "outputs": [
        {
          "output_type": "display_data",
          "data": {
            "text/plain": [
              "<Figure size 1000x600 with 1 Axes>"
            ],
            "image/png": "[encoded data removed]"
          },
          "metadata": {}
        }
      ]
    },
    {
      "cell_type": "code",
      "source": [
        "from sklearn.svm import SVR\n",
        "from sklearn.model_selection import RandomizedSearchCV\n",
        "from scipy.stats import uniform, loguniform\n",
        "import numpy as np\n",
        "\n",
        "# Step 1: Define the parameter grid for random search\n",
        "param_dist = {\n",
        "    'C': loguniform(1e-3, 1e3),  # Log-uniform distribution for 'C' (penalty parameter)\n",
        "    'epsilon': uniform(0.01, 0.1),  # Uniform distribution for epsilon\n",
        "    'gamma': ['scale', 'auto']  # 'scale' or 'auto' for gamma (kernel coefficient)\n",
        "}\n",
        "\n",
        "# Step 2: Initialize the SVR model with RBF kernel (default)\n",
        "svr = SVR(kernel='rbf')\n",
        "\n",
        "# Step 3: Set up the RandomizedSearchCV with 5-fold cross-validation\n",
        "random_search = RandomizedSearchCV(\n",
        "    svr,\n",
        "    param_distributions=param_dist,\n",
        "    n_iter=50,  # Number of random combinations to try\n",
        "    cv=5,  # 5-fold cross-validation\n",
        "    verbose=2,  # Display progress\n",
        "    random_state=42,\n",
        "    n_jobs=-1  # Use all available CPU cores for parallel processing\n",
        ")"
      ],
      "metadata": {
        "id": "9gmhlYjFTdvU"
      },
      "execution_count": null,
      "outputs": []
    },
    {
      "cell_type": "code",
      "source": [
        "# Step 4: Fit the model to the training data\n",
        "random_search.fit(X_train, y_train)\n",
        "\n",
        "# Step 5: Print the best hyperparameters found\n",
        "print(\"Best hyperparameters found: \", random_search.best_params_)"
      ],
      "metadata": {
        "colab": {
          "base_uri": "https://localhost:8080/"
        },
        "id": "izX220_LTxDn",
        "outputId": "ff2c5534-7999-4e93-a4ce-1c089d6986e1"
      },
      "execution_count": null,
      "outputs": [
        {
          "output_type": "stream",
          "name": "stdout",
          "text": [
            "Fitting 5 folds for each of 50 candidates, totalling 250 fits\n",
            "Best hyperparameters found:  {'C': 695.8780103230359, 'epsilon': 0.033277134043030426, 'gamma': 'auto'}\n"
          ]
        }
      ]
    },
    {
      "cell_type": "code",
      "source": [
        "y_pred_new = random_search.predict(X_test)\n"
      ],
      "metadata": {
        "id": "T10vmxcfVvsa"
      },
      "execution_count": null,
      "outputs": []
    },
    {
      "cell_type": "code",
      "source": [
        "y_train_pred = random_search.predict(X_train)"
      ],
      "metadata": {
        "id": "qTZ2SnljK2CE"
      },
      "execution_count": null,
      "outputs": []
    },
    {
      "cell_type": "code",
      "source": [
        "# Step 7: Evaluate the model using RMSE\n",
        "from sklearn.metrics import mean_squared_error\n",
        "rmse1 = np.sqrt(mean_squared_error(y_train, y_train_pred))\n",
        "print(f\"Training RMSE: {rmse1}\")\n",
        "rmse = np.sqrt(mean_squared_error(y_test, y_pred_new))\n",
        "print(f\"Test RMSE: {rmse}\")"
      ],
      "metadata": {
        "colab": {
          "base_uri": "https://localhost:8080/"
        },
        "id": "mUC--gV-Vzal",
        "outputId": "c145a145-fe43-4519-c3d1-fbb616c37ab7"
      },
      "execution_count": null,
      "outputs": [
        {
          "output_type": "stream",
          "name": "stdout",
          "text": [
            "Training RMSE: 0.692175795705606\n",
            "Test RMSE: 1.9883364241586872\n"
          ]
        }
      ]
    },
    {
      "cell_type": "code",
      "source": [
        "\n",
        "# Assuming y_test and y_pred are your actual and predicted values, respectively.\n",
        "r2_p = r2_score(y_test, y_pred_new)\n",
        "print(f\"R-squared (R2): {r2_p}\")"
      ],
      "metadata": {
        "colab": {
          "base_uri": "https://localhost:8080/"
        },
        "id": "vwb4a7JxXXla",
        "outputId": "ce6878f7-30a4-442e-fa8d-ba31e5716669"
      },
      "execution_count": null,
      "outputs": [
        {
          "output_type": "stream",
          "name": "stdout",
          "text": [
            "R-squared (R2): 0.9988498947907343\n"
          ]
        }
      ]
    },
    {
      "cell_type": "code",
      "source": [
        "import pandas as pd\n",
        "\n",
        "# Step 1: Prepare your input features\n",
        "# Replace these with actual values you want to predict\n",
        "new_data = {\n",
        "    'Month_April': [0],  # Example: April = 1, other months = 0\n",
        "    #'Month_Aug': [0],    # Example: Aug = 0\n",
        "    #'Month_Dec': [0],    # Example: Dec = 0\n",
        "    #'Month_Feb': [0],    # Example: Feb = 0\n",
        "    #'Month_Jan': [0],    # Example: Jan = 0\n",
        "    'Month_July': [1],   # Example: July = 0\n",
        "    #'Month_Jun': [0],    # Example: Jun = 0\n",
        "    #'Month_Mar': [0],    # Example: Mar = 0\n",
        "    #'Month_May': [0],    # Example: May = 0\n",
        "    'Month_Nov': [0],    # Example: Nov = 0\n",
        "    #'Month_Oct': [0],    # Example: Oct = 0\n",
        "    #'Month_Sep': [0],    # Example: Sep = 0\n",
        "    #'Commodity_Masoor Dal': [0],  # Example: Commodity_X = 1 if it's a relevant commodity, otherwise 0\n",
        "    'Commodity_Groundnut Oil': [1],  # Example: Commodity_Y = 0\n",
        "    # Add or remove commodity columns as necessary\n",
        "    'Year': [2023]       # Example year\n",
        "}\n",
        "\n",
        "# Step 2: Create a DataFrame\n",
        "new_df = pd.DataFrame(new_data)\n",
        "\n",
        "# Ensure the DataFrame has the same columns as the training data\n",
        "# For example, you may need to reorder columns or ensure all columns are present\n",
        "for col in X.columns:\n",
        "    if col not in new_df.columns:\n",
        "        new_df[col] = 0  # Or appropriate default value\n",
        "new_df = new_df[X.columns]  # Reorder columns if necessary\n",
        "\n",
        "# Step 3: Get predictions\n",
        "y_new_pred_2 = random_search.predict(new_df)\n",
        "\n",
        "print(f\"Predicted Price: {y_new_pred_2[0]}\")\n"
      ],
      "metadata": {
        "colab": {
          "base_uri": "https://localhost:8080/"
        },
        "id": "YENtl6g9YfCQ",
        "outputId": "f75d738a-f89e-47fa-c830-39219f6d7aa4"
      },
      "execution_count": null,
      "outputs": [
        {
          "output_type": "stream",
          "name": "stdout",
          "text": [
            "Predicted Price: 145.8696801761055\n"
          ]
        }
      ]
    },
    {
      "cell_type": "code",
      "source": [
        "# Step 8: Optionally, plot the results (Actual vs Predicted)\n",
        "import matplotlib.pyplot as plt\n",
        "\n",
        "plt.scatter(y_test, y_pred, color='blue', label='Predicted Prices')\n",
        "plt.plot([y_test.min(), y_test.max()], [y_test.min(), y_test.max()], color='red', lw=2, label='Perfect Prediction Line')\n",
        "plt.xlabel('Actual Prices')\n",
        "plt.ylabel('Predicted Prices')\n",
        "plt.title('Actual vs Predicted Prices (SVR with RandomizedSearchCV)')\n",
        "plt.legend()\n",
        "plt.grid(True)\n",
        "plt.show()"
      ],
      "metadata": {
        "colab": {
          "base_uri": "https://localhost:8080/",
          "height": 472
        },
        "id": "UvBdlr_-V7ql",
        "outputId": "c0e28556-2ca8-47a6-d038-7c57c3763107"
      },
      "execution_count": null,
      "outputs": [
        {
          "output_type": "display_data",
          "data": {
            "text/plain": [
              "<Figure size 640x480 with 1 Axes>"
            ],
            "image/png": "[encoded data removed]"
          },
          "metadata": {}
        }
      ]
    }
  ]
}